{
 "cells": [
  {
   "cell_type": "markdown",
   "id": "835be14e",
   "metadata": {},
   "source": [
    "# q1.Using the same vaccinations dataset, which includes the number of times people got the flu vaccine.\n",
    "The dataset contains the following numbers:\n",
    "never: 5\n",
    "once: 8\n",
    "twice: 4\n",
    "3 times: 3\n",
    "\n",
    "Calculate and output the variance.\n",
    "We will soon learn about easier ways to calculate the variance and other summary statistics using Python. For now, use Python code to calculate the result using the corresponding equation."
   ]
  },
  {
   "cell_type": "code",
   "execution_count": 9,
   "id": "3d1eb2db",
   "metadata": {},
   "outputs": [],
   "source": [
    "import numpy as np\n",
    "import math"
   ]
  },
  {
   "cell_type": "code",
   "execution_count": 10,
   "id": "c2076c85",
   "metadata": {},
   "outputs": [],
   "source": [
    "a = np.array([0,0,0,0,0,\n",
    "1,1,1,1,1,1,1,1,\n",
    "2,2,2,2,\n",
    "3,3,3])\n",
    "\n",
    "mean = np.sum(a)/a.size"
   ]
  },
  {
   "cell_type": "code",
   "execution_count": 11,
   "id": "cb9efc49",
   "metadata": {},
   "outputs": [
    {
     "name": "stdout",
     "output_type": "stream",
     "text": [
      "0.9875\n"
     ]
    }
   ],
   "source": [
    "varnc = np.sum((a-mean)**2)/a.size\n",
    "print(varnc)"
   ]
  },
  {
   "cell_type": "code",
   "execution_count": 12,
   "id": "d487345e",
   "metadata": {},
   "outputs": [
    {
     "name": "stdout",
     "output_type": "stream",
     "text": [
      "0.0\n"
     ]
    }
   ],
   "source": [
    "a = np.array([2,2,2,2])\n",
    "mean = np.sum(a)/a.size\n",
    "varnc = np.sum((a-mean)**2)/a.size\n",
    "std = math.sqrt(varnc)\n",
    "print(std)"
   ]
  },
  {
   "cell_type": "code",
   "execution_count": null,
   "id": "0fe3f129",
   "metadata": {},
   "outputs": [],
   "source": []
  },
  {
   "cell_type": "markdown",
   "id": "fda7b191",
   "metadata": {},
   "source": [
    "q2.The given code includes a list of heights for various basketball players.\n",
    "You need to calculate and output how many players are in the range of one standard deviation from the mean.\n",
    "\n",
    "players = [180, 172, 178, 185, 190, 195, 192, 200, 210, 190]"
   ]
  },
  {
   "cell_type": "code",
   "execution_count": 13,
   "id": "4e2246f9",
   "metadata": {},
   "outputs": [],
   "source": [
    "players = np.array([180, 172, 178, 185, 190, 195, 192, 200, 210, 190])\n",
    "mean = np.sum(players)/players.size\n",
    "varnc = np.sum((players-mean)**2)/players.size\n",
    "std = math.sqrt(varnc)"
   ]
  },
  {
   "cell_type": "code",
   "execution_count": 14,
   "id": "ea09bf40",
   "metadata": {},
   "outputs": [
    {
     "name": "stdout",
     "output_type": "stream",
     "text": [
      "189.2\n",
      "111.56000000000002\n",
      "10.562196741208716\n"
     ]
    }
   ],
   "source": [
    "print(mean)\n",
    "print(varnc)\n",
    "print(std)"
   ]
  },
  {
   "cell_type": "code",
   "execution_count": null,
   "id": "48dfb3eb",
   "metadata": {},
   "outputs": [],
   "source": []
  },
  {
   "cell_type": "markdown",
   "id": "ee04d95d",
   "metadata": {},
   "source": [
    "q3.You are given an array that holds the square footage data for houses on a particular street.\n",
    "A new house has just been constructed on that street.\n",
    "Modify your program to take the new house value as input, add it to the array, and output the array sorted in ascending order.\n",
    "\n",
    "data = np.array([1000, 2500, 1400, 1800, 900, 4200, 2200, 1900, 3500])"
   ]
  },
  {
   "cell_type": "code",
   "execution_count": null,
   "id": "cc0cab41",
   "metadata": {},
   "outputs": [],
   "source": [
    "data = np.array([1000, 2500, 1400, 1800, 900, 4200, 2200, 1900, 3500])"
   ]
  },
  {
   "cell_type": "code",
   "execution_count": null,
   "id": "1aaa2550",
   "metadata": {},
   "outputs": [],
   "source": []
  },
  {
   "cell_type": "code",
   "execution_count": null,
   "id": "b53747e3",
   "metadata": {},
   "outputs": [],
   "source": []
  },
  {
   "cell_type": "code",
   "execution_count": null,
   "id": "d65d74f3",
   "metadata": {},
   "outputs": [],
   "source": []
  }
 ],
 "metadata": {
  "kernelspec": {
   "display_name": "Python 3 (ipykernel)",
   "language": "python",
   "name": "python3"
  },
  "language_info": {
   "codemirror_mode": {
    "name": "ipython",
    "version": 3
   },
   "file_extension": ".py",
   "mimetype": "text/x-python",
   "name": "python",
   "nbconvert_exporter": "python",
   "pygments_lexer": "ipython3",
   "version": "3.9.12"
  }
 },
 "nbformat": 4,
 "nbformat_minor": 5
}
